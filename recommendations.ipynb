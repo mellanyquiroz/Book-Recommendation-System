{
 "cells": [
  {
   "cell_type": "markdown",
   "id": "383e0c00",
   "metadata": {},
   "source": [
    "# Explore Book Rating Data"
   ]
  },
  {
   "cell_type": "code",
   "execution_count": 1,
   "id": "820b8eb2",
   "metadata": {},
   "outputs": [],
   "source": [
    "liked_books = [\"53732\", \"117902\", \"472331\", \"6066095\", \"3850639\", \"526270\", \"11250317\"]"
   ]
  },
  {
   "cell_type": "markdown",
   "id": "76582e74",
   "metadata": {},
   "source": [
    "First Steps:\n",
    "1. Find all the users who like these same books (using the goodreads interaction file because it has user id's)\n",
    "2. Then find all the books they like because we assume the have similar taste as ours. "
   ]
  },
  {
   "cell_type": "code",
   "execution_count": 2,
   "id": "b564c070",
   "metadata": {},
   "outputs": [
    {
     "name": "stdout",
     "output_type": "stream",
     "text": [
      "book_id_csv,book_id\r\n",
      "0,34684622\r\n",
      "1,34536488\r\n",
      "2,34017076\r\n",
      "3,71730\r\n",
      "4,30422361\r\n",
      "5,33503613\r\n",
      "6,33517540\r\n",
      "7,34467031\r\n",
      "8,6383669\r\n"
     ]
    }
   ],
   "source": [
    "# We have to make sure the id's match up across files (like mentioned in search)\n",
    "\n",
    "!head book_id_map.csv"
   ]
  },
  {
   "cell_type": "code",
   "execution_count": 3,
   "id": "5e8d655f",
   "metadata": {},
   "outputs": [],
   "source": [
    "csv_book_mapping = {}\n",
    "\n",
    "with open(\"book_id_map.csv\", \"r\") as f:\n",
    "    while True:\n",
    "        line = f.readline()\n",
    "        if not line:\n",
    "            break\n",
    "        csv_id, book_id = line.split(\",\")\n",
    "        csv_book_mapping[csv_id] = book_id"
   ]
  },
  {
   "cell_type": "code",
   "execution_count": 4,
   "id": "5ecc8eba",
   "metadata": {},
   "outputs": [
    {
     "data": {
      "text/plain": [
       "2360651"
      ]
     },
     "execution_count": 4,
     "metadata": {},
     "output_type": "execute_result"
    }
   ],
   "source": [
    "len(csv_book_mapping)"
   ]
  },
  {
   "cell_type": "code",
   "execution_count": 5,
   "id": "06ad1b75",
   "metadata": {},
   "outputs": [
    {
     "name": "stdout",
     "output_type": "stream",
     "text": [
      " 228648343 goodreads_interactions.csv\r\n"
     ]
    }
   ],
   "source": [
    "!wc -l goodreads_interactions.csv"
   ]
  },
  {
   "cell_type": "code",
   "execution_count": 7,
   "id": "b7364bf5",
   "metadata": {},
   "outputs": [
    {
     "name": "stdout",
     "output_type": "stream",
     "text": [
      "-rw-r--r--  1 mellanyandrea  staff   4.0G Feb 24 21:01 goodreads_interactions.csv\r\n"
     ]
    }
   ],
   "source": [
    "!ls -lh | grep goodreads_interactions"
   ]
  },
  {
   "cell_type": "markdown",
   "id": "2314cfc6",
   "metadata": {},
   "source": [
    "# Finding Users who Like the same books as Us"
   ]
  },
  {
   "cell_type": "code",
   "execution_count": null,
   "id": "92c71102",
   "metadata": {},
   "outputs": [],
   "source": [
    "# Pandas would use more memory so we won't use it. We are using streaming method. \n",
    "\n",
    "overlap_users = set()\n",
    "\n",
    "with open(\"goodreads_interactions.csv\", 'r') as f:\n",
    "    while True:\n",
    "        line = f.readline()\n",
    "        if not line:\n",
    "            break\n",
    "        user_id, csv_id, rating, _ = line_split(\",\")\n",
    "        \n",
    "        if user_id in overlap_users:\n",
    "            continue\n",
    "            \n",
    "        try:\n",
    "            rating = int(rating)\n",
    "        except ValueError:\n",
    "            continue\n",
    "            \n",
    "        book_id = csv_book_mapping[csv_id]\n",
    "        \n",
    "        if book_id in liked_books and rating >=4:\n",
    "            overlap_users.add(user_id)"
   ]
  }
 ],
 "metadata": {
  "kernelspec": {
   "display_name": "Python 3 (ipykernel)",
   "language": "python",
   "name": "python3"
  },
  "language_info": {
   "codemirror_mode": {
    "name": "ipython",
    "version": 3
   },
   "file_extension": ".py",
   "mimetype": "text/x-python",
   "name": "python",
   "nbconvert_exporter": "python",
   "pygments_lexer": "ipython3",
   "version": "3.9.7"
  }
 },
 "nbformat": 4,
 "nbformat_minor": 5
}
